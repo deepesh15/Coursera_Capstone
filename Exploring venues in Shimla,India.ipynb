{
 "cells": [
  {
   "cell_type": "markdown",
   "metadata": {},
   "source": [
    "# Exploring Venues in Shimla, India"
   ]
  },
  {
   "cell_type": "markdown",
   "metadata": {},
   "source": [
    "## Table of Contents"
   ]
  },
  {
   "cell_type": "markdown",
   "metadata": {},
   "source": [
    "<ul>\n",
    "    <li>Introduction</li>\n",
    "    <li>Data Collection</li>\n",
    "    <li>Data Cleaning</li>\n",
    "    <li>Methodology</li>\n",
    "    <li>Analysis</li>\n",
    "    <li>Results and Discussion</li>\n",
    "    <li>Conclusion</li>\n",
    "</ul>"
   ]
  },
  {
   "cell_type": "markdown",
   "metadata": {},
   "source": [
    "## Introduction"
   ]
  },
  {
   "cell_type": "markdown",
   "metadata": {},
   "source": [
    "Whenever a person is visiting or planning to visit a new city, he/she always wants to know what the city has in store for them, And a city’s restaurants and cafe’s are a major part of the experience when someone visits a city, Most of the people who visit these restaurants, might want to know about the food and ratings of the given place. This information can help people decide about the places the want to eat and help them get reservations if needed.\n",
    "Shimla city is spread over an area of 35.34 km2 and has various number of places spread over the city, as in most these places vehicles are not allowed (near the mall road) so it would be very helpful for the people to efficiently find their kind of place to eat. By using the foursquare API we’ll be able to provide people with sufficient knowledge about the place they are visiting and what to expect from the place.\n"
   ]
  },
  {
   "cell_type": "markdown",
   "metadata": {},
   "source": [
    "### Data Collection form APIs"
   ]
  },
  {
   "cell_type": "markdown",
   "metadata": {},
   "source": [
    "To begin with, we will take a look at Shimla on the Map using the folium library.\n",
    "\n",
    "We will also fetch the data from two different APIs.\n",
    "<ul>\n",
    "    <li>\n",
    "    Foursquare API: We will use the Foursquare API to fetch venues in Chandigarh starting from the middle upto 44 Kilometers in each direction.</li>  \n",
    "  <li>Zomato API: The Zomato API provides information about various venues including the complete address, user ratings, price for two people, price range and a lot more.</li>\n",
    "</ul>"
   ]
  },
  {
   "cell_type": "markdown",
   "metadata": {},
   "source": [
    "### Libraries used in this project"
   ]
  },
  {
   "cell_type": "code",
   "execution_count": 1,
   "metadata": {},
   "outputs": [],
   "source": [
    "#libraries \n",
    "import numpy as np\n",
    "import pandas as pd\n",
    "import folium\n",
    "import requests\n",
    "\n",
    "import matplotlib.pyplot as plt\n",
    "import matplotlib.cm as cm\n",
    "import matplotlib.colors as  colors\n",
    "from pandas.io.json import json_normalize"
   ]
  },
  {
   "cell_type": "markdown",
   "metadata": {},
   "source": [
    "### Shimla"
   ]
  },
  {
   "cell_type": "code",
   "execution_count": 2,
   "metadata": {},
   "outputs": [
    {
     "name": "stdout",
     "output_type": "stream",
     "text": [
      "The coordinates of Shimla are 31.1048, 77.1734.\n"
     ]
    }
   ],
   "source": [
    "#coordinates of shimla \n",
    "latitude = \"31.1048\"\n",
    "longitude = \"77.1734\"\n",
    "print(\"The coordinates of Shimla are {}, {}.\".format(latitude,longitude))"
   ]
  },
  {
   "cell_type": "markdown",
   "metadata": {},
   "source": [
    "we'll use the folium library to create a complete map zoomed on  Shimla. We'll also plot a marker on the coordinates we just identified above."
   ]
  },
  {
   "cell_type": "code",
   "execution_count": 3,
   "metadata": {
    "scrolled": true
   },
   "outputs": [
    {
     "data": {
      "text/html": [
       "<div style=\"width:100%;\"><div style=\"position:relative;width:100%;height:0;padding-bottom:60%;\"><iframe src=\"data:text/html;charset=utf-8;base64,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\" style=\"position:absolute;width:100%;height:100%;left:0;top:0;border:none !important;\" allowfullscreen webkitallowfullscreen mozallowfullscreen></iframe></div></div>"
      ],
      "text/plain": [
       "<folium.folium.Map at 0x1d0d808e6c8>"
      ]
     },
     "execution_count": 3,
     "metadata": {},
     "output_type": "execute_result"
    }
   ],
   "source": [
    "#displaying shimla on a map\n",
    "shimla_map =folium.Map(location = [latitude,longitude], zoom_start =14.70)\n",
    "shimla_map.save(\"Shimla Map.html\")\n",
    "shimla_map"
   ]
  },
  {
   "cell_type": "markdown",
   "metadata": {},
   "source": [
    "###  Foursquare API"
   ]
  },
  {
   "cell_type": "markdown",
   "metadata": {},
   "source": [
    "We begin by fetching all the venues in shimla upto a range of 10km using the foursquare API.Foursquare has the explore API which allows us to find out venues recommendations within a given radius from the coordinates."
   ]
  },
  {
   "cell_type": "code",
   "execution_count": 4,
   "metadata": {},
   "outputs": [],
   "source": [
    "#foursquare API and stuff\n",
    "cli_id = \"PZAUUPBXMCOPLFIV15VL4BTTADK3XZ0CZGIX0T0AXQ1PAGYO\"\n",
    "cli_sec = \"L3DG2NCFUCIZLYRLC24Z2UUD3PTJLDTHMXG0YYRH0Q1U2X0I\"\n",
    "rad = 10000  #that's 10km\n",
    "no_of_venues = 50\n",
    "ver = \"20191106\"  #current date"
   ]
  },
  {
   "cell_type": "markdown",
   "metadata": {},
   "source": [
    "We define the get_category_type method to get the correct category for each value"
   ]
  },
  {
   "cell_type": "code",
   "execution_count": 5,
   "metadata": {},
   "outputs": [],
   "source": [
    "#defining the category function straight from coursebook implementation\n",
    "def get_category_type(row):\n",
    "    try:\n",
    "        categories_list = row['categories']\n",
    "    except:\n",
    "        categories_list = row['venue.categories']\n",
    "    \n",
    "    if len(categories_list) ==0:\n",
    "        return None\n",
    "    else:\n",
    "        return categories_list[0]['name']"
   ]
  },
  {
   "cell_type": "markdown",
   "metadata": {},
   "source": [
    "We'll keep calling the API untill we get all the venues in the pre-defined range.The maximum venues this API can fetch is 100.\n",
    "<ul> \n",
    "    <li> Foursquare API requires client_id, and client_secret to function which can be accessed after creating a developer account. </li>\n",
    "    <li>We will set the radius as 4 Kilometers. </li>\n",
    "<li>The version is a required parameter which defines the date on which we are browsing so that it retrieves the latest data</li>\n",
    "</ul>"
   ]
  },
  {
   "cell_type": "code",
   "execution_count": 6,
   "metadata": {},
   "outputs": [],
   "source": [
    "pd.set_option(\"display.max_rows\",None)\n",
    "\n",
    "offset= 0\n",
    "total_venues =0\n",
    "fs_venues = pd.DataFrame(columns = ['name','categories','lat','long'])\n"
   ]
  },
  {
   "cell_type": "code",
   "execution_count": 7,
   "metadata": {},
   "outputs": [
    {
     "name": "stdout",
     "output_type": "stream",
     "text": [
      "Total 26 venues fetched within a total radiues of 10.0 km\n"
     ]
    }
   ],
   "source": [
    "while(True):\n",
    "    url = (\"https://api.foursquare.com/v2/venues/explore?client_id={}&client_secret={}&v={}&ll={},{}&radius={}&limit={}&offset={}\").format(cli_id,cli_sec,ver,latitude,longitude,rad,no_of_venues,offset)\n",
    "    result =requests.get(url).json()\n",
    "    venues_fetched = len(result['response']['groups'][0]['items'])\n",
    "    total_venues = total_venues + venues_fetched\n",
    "    print(\"Total {} venues fetched within a total radiues of {} km\".format(venues_fetched,rad/1000))\n",
    "    venues = result['response']['groups'][0]['items']\n",
    "    venues = json_normalize(venues)\n",
    "    \n",
    "    #filter the columns\n",
    "    filtered_columns =['venue.name','venue.categories','venue.location.lat','venue.location.lng']\n",
    "    venues =  venues.loc[:,filtered_columns]\n",
    "    \n",
    "    #filter the category for each row\n",
    "    venues['venue.categories'] = venues.apply(get_category_type, axis =1)\n",
    "    \n",
    "    #clean the column names\n",
    "    venues.columns = [col.split(\".\")[-1] for col in venues.columns]\n",
    "    fs_venues = pd.concat([fs_venues,venues], axis =0, sort= False)\n",
    "    if(venues_fetched <50):\n",
    "        break\n",
    "    else:\n",
    "        offset = offset +50\n",
    "    fs_venues = fs_venues.reset_index(drop =True)\n",
    "    print(\"\\nTotal {} venues fetched\".format(total_venues))"
   ]
  },
  {
   "cell_type": "markdown",
   "metadata": {},
   "source": [
    "###  Zomato API"
   ]
  },
  {
   "cell_type": "markdown",
   "metadata": {},
   "source": [
    "The Zomato API allows using its search API to search for any given venue based on certain search filters such as query, latitude, longitude and more. Zomato also requires a Zomato user key which can be accessed with a developer account.\n",
    "\n",
    "We'll use the name, lat, and lng values of various venues fetched from Foursquare API to use the search API and get more information regarding each venue."
   ]
  },
  {
   "cell_type": "markdown",
   "metadata": {},
   "source": [
    "<ul>\n",
    "    <li>The query will be the name of the venue.</li>\n",
    "    <li>The start defines from what offset we want to start, so we'll keep it at 0.</li>\n",
    "    <li>The count defines the number of restaurants we want to fetch. As we have the exact location coordinates, we'll fetch only one.</li>\n",
    "    <li>We will supply the latitude and longitude values.</li>\n",
    "    <li>We will set the sorting criteria as real_distance so each time we get the venue we're searching based on location coordinates.</li>\n",
    "</ul>"
   ]
  },
  {
   "cell_type": "code",
   "execution_count": 8,
   "metadata": {},
   "outputs": [
    {
     "name": "stdout",
     "output_type": "stream",
     "text": [
      "Fetching data for venue: 1\n",
      "Fetching data for venue: 2\n",
      "Fetching data for venue: 3\n",
      "Fetching data for venue: 4\n",
      "Fetching data for venue: 5\n",
      "Fetching data for venue: 6\n",
      "Fetching data for venue: 7\n",
      "Fetching data for venue: 8\n",
      "Fetching data for venue: 9\n",
      "Fetching data for venue: 10\n",
      "Fetching data for venue: 11\n",
      "Fetching data for venue: 12\n",
      "Fetching data for venue: 13\n",
      "Fetching data for venue: 14\n",
      "Fetching data for venue: 15\n",
      "Fetching data for venue: 16\n",
      "Fetching data for venue: 17\n",
      "Fetching data for venue: 18\n",
      "Fetching data for venue: 19\n",
      "Fetching data for venue: 20\n",
      "Fetching data for venue: 21\n",
      "Fetching data for venue: 22\n",
      "Fetching data for venue: 23\n",
      "Fetching data for venue: 24\n",
      "Fetching data for venue: 25\n",
      "Fetching data for venue: 26\n"
     ]
    }
   ],
   "source": [
    "headers = {'user-key':'0ce13f014dafcc1baaea30e15b4055c5'}\n",
    "venues_information = []\n",
    "\n",
    "for index, row in fs_venues.iterrows():\n",
    "    print(\"Fetching data for venue: {}\".format(index+1))\n",
    "    venue = []\n",
    "    url = ('https://developers.zomato.com/api/v2.1/search?q={}' + \n",
    "          '&start=0&count=1&lat={}&lon={}&sort=real_distance').format(row['name'], row['lat'], row['lng'])\n",
    "    result = requests.get(url,headers = headers).json()\n",
    "    if(len(result['restaurants']) > 0):\n",
    "        venue.append(result['restaurants'][0]['restaurant']['name'])\n",
    "        venue.append(result['restaurants'][0]['restaurant']['location']['latitude'])\n",
    "        venue.append(result['restaurants'][0]['restaurant']['location']['longitude'])\n",
    "        venue.append(result['restaurants'][0]['restaurant']['average_cost_for_two'])\n",
    "        venue.append(result['restaurants'][0]['restaurant']['price_range'])\n",
    "        venue.append(result['restaurants'][0]['restaurant']['user_rating']['aggregate_rating'])\n",
    "        venue.append(result['restaurants'][0]['restaurant']['location']['address'])\n",
    "        venues_information.append(venue)\n",
    "    else:\n",
    "        venues_information.append(np.zeros(6))\n",
    "    \n",
    "zomato_venues = pd.DataFrame(venues_information, \n",
    "                                  columns = ['venue', 'latitude', \n",
    "                                             'longitude', 'price_for_two', \n",
    "                                             'price_range', 'rating', 'address'])"
   ]
  },
  {
   "cell_type": "markdown",
   "metadata": {},
   "source": [
    "###  Data Cleaning"
   ]
  },
  {
   "cell_type": "markdown",
   "metadata": {},
   "source": [
    "The data from multiple resources might not always align. Thus, it is important to combine the data retrieved from multiple resources properly.\n",
    "\n",
    "We'll first plot the two data points on the map. We'll then try to combine data points that have their latitude and longitude values very close to one another. From the remaining selected venues, we will inspect the venues to ensure that any remaining mismatched venues are also removed from the final dataset of venues before we begin any analysis.\n",
    "\n",
    "We will first plot the Foursquare data on the map.\n"
   ]
  },
  {
   "cell_type": "code",
   "execution_count": 9,
   "metadata": {},
   "outputs": [
    {
     "data": {
      "text/html": [
       "<div style=\"width:100%;\"><div style=\"position:relative;width:100%;height:0;padding-bottom:60%;\"><iframe src=\"data:text/html;charset=utf-8;base64,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\" style=\"position:absolute;width:100%;height:100%;left:0;top:0;border:none !important;\" allowfullscreen webkitallowfullscreen mozallowfullscreen></iframe></div></div>"
      ],
      "text/plain": [
       "<folium.folium.Map at 0x1d0d80eb988>"
      ]
     },
     "execution_count": 9,
     "metadata": {},
     "output_type": "execute_result"
    }
   ],
   "source": [
    "shimla_map = folium.Map(location = [latitude,longitude],zoom_start =11.70) \n",
    "for name,latitude,longitude in zip(fs_venues['name'],fs_venues['lat'],fs_venues['lng']):\n",
    "    label = '{}'.format(name)\n",
    "    label = folium.Popup(label, parse_html = True)\n",
    "    folium.CircleMarker(\n",
    "    [latitude, longitude],\n",
    "    radius = 5,\n",
    "    popup = label,\n",
    "    color = 'red',\n",
    "    fill=True,\n",
    "    fill_color = '#FF0000',\n",
    "    fiill_opacity =0.5,\n",
    "    parse_html =False).add_to(shimla_map)\n",
    "shimla_map.save(\"Venues by foursquare.html\")   \n",
    "shimla_map"
   ]
  },
  {
   "cell_type": "markdown",
   "metadata": {},
   "source": [
    "### Venues on the map from Foursquare API"
   ]
  },
  {
   "cell_type": "code",
   "execution_count": 10,
   "metadata": {},
   "outputs": [
    {
     "data": {
      "text/html": [
       "<div style=\"width:100%;\"><div style=\"position:relative;width:100%;height:0;padding-bottom:60%;\"><iframe src=\"data:text/html;charset=utf-8;base64,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\" style=\"position:absolute;width:100%;height:100%;left:0;top:0;border:none !important;\" allowfullscreen webkitallowfullscreen mozallowfullscreen></iframe></div></div>"
      ],
      "text/plain": [
       "<folium.folium.Map at 0x1d0d81d0788>"
      ]
     },
     "execution_count": 10,
     "metadata": {},
     "output_type": "execute_result"
    }
   ],
   "source": [
    "#zomato data on map\n",
    "\n",
    "shimla_map = folium.Map(location = [latitude,longitude],zoom_start =11.70) \n",
    "for venue,address,latitude,longitude in zip(zomato_venues['venue'],zomato_venues['address'],zomato_venues['latitude'],zomato_venues['longitude']):\n",
    "    label = '{}'.format(name)\n",
    "    label = folium.Popup(label, parse_html = True)\n",
    "    folium.CircleMarker(\n",
    "    [latitude, longitude],\n",
    "    radius = 5,\n",
    "    popup = label,\n",
    "    color = 'blue',\n",
    "    fill=True,\n",
    "    fill_color = '#0000FF',\n",
    "    fiill_opacity =0.5,\n",
    "    parse_html =False).add_to(shimla_map)\n",
    "shimla_map.save(\"Venues by zomato.html\")       \n",
    "shimla_map"
   ]
  },
  {
   "cell_type": "markdown",
   "metadata": {},
   "source": [
    "### Venues on the map from Zomato API"
   ]
  },
  {
   "cell_type": "code",
   "execution_count": 11,
   "metadata": {},
   "outputs": [],
   "source": [
    "fs_venues['lat']= fs_venues['lat'].apply(lambda lat: round(float(lat),4))\n",
    "fs_venues['lng']= fs_venues['lng'].apply(lambda lng: round(float(lng),4))\n",
    "zomato_venues['latitude']= zomato_venues['latitude'].apply(lambda latitude: round(float(latitude),4))\n",
    "zomato_venues['longitude']= zomato_venues['longitude'].apply(lambda longitude: round(float(longitude),4))"
   ]
  },
  {
   "cell_type": "code",
   "execution_count": 12,
   "metadata": {},
   "outputs": [],
   "source": [
    "ds = pd.concat([fs_venues,zomato_venues], axis=1)\n",
    "ds['lat_diff'] = ds['latitude'] -ds['lat']\n",
    "ds['lng_diff'] = ds['longitude'] -ds['lng']"
   ]
  },
  {
   "cell_type": "code",
   "execution_count": 13,
   "metadata": {
    "scrolled": false
   },
   "outputs": [
    {
     "data": {
      "text/html": [
       "<div>\n",
       "<style scoped>\n",
       "    .dataframe tbody tr th:only-of-type {\n",
       "        vertical-align: middle;\n",
       "    }\n",
       "\n",
       "    .dataframe tbody tr th {\n",
       "        vertical-align: top;\n",
       "    }\n",
       "\n",
       "    .dataframe thead th {\n",
       "        text-align: right;\n",
       "    }\n",
       "</style>\n",
       "<table border=\"1\" class=\"dataframe\">\n",
       "  <thead>\n",
       "    <tr style=\"text-align: right;\">\n",
       "      <th></th>\n",
       "      <th>name</th>\n",
       "      <th>categories</th>\n",
       "      <th>lat</th>\n",
       "      <th>long</th>\n",
       "      <th>lng</th>\n",
       "      <th>venue</th>\n",
       "      <th>latitude</th>\n",
       "      <th>longitude</th>\n",
       "      <th>price_for_two</th>\n",
       "      <th>price_range</th>\n",
       "      <th>rating</th>\n",
       "      <th>address</th>\n",
       "      <th>lat_diff</th>\n",
       "      <th>lng_diff</th>\n",
       "    </tr>\n",
       "  </thead>\n",
       "  <tbody>\n",
       "    <tr>\n",
       "      <td>0</td>\n",
       "      <td>Shimla</td>\n",
       "      <td>City</td>\n",
       "      <td>31.1053</td>\n",
       "      <td>NaN</td>\n",
       "      <td>77.1717</td>\n",
       "      <td>Dobby's</td>\n",
       "      <td>31.1052</td>\n",
       "      <td>77.1716</td>\n",
       "      <td>350.0</td>\n",
       "      <td>2.0</td>\n",
       "      <td>0</td>\n",
       "      <td>Mall Road, Near Syndicate Bank, Summer Hill, S...</td>\n",
       "      <td>-0.0001</td>\n",
       "      <td>-0.0001</td>\n",
       "    </tr>\n",
       "    <tr>\n",
       "      <td>1</td>\n",
       "      <td>The Mall</td>\n",
       "      <td>Plaza</td>\n",
       "      <td>31.1046</td>\n",
       "      <td>NaN</td>\n",
       "      <td>77.1751</td>\n",
       "      <td>Honey Hut</td>\n",
       "      <td>31.1044</td>\n",
       "      <td>77.1750</td>\n",
       "      <td>450.0</td>\n",
       "      <td>2.0</td>\n",
       "      <td>3.7</td>\n",
       "      <td>Khadi Bhawan, Middle Bazaar, Mall Road, Summer...</td>\n",
       "      <td>-0.0002</td>\n",
       "      <td>-0.0001</td>\n",
       "    </tr>\n",
       "    <tr>\n",
       "      <td>2</td>\n",
       "      <td>Lakkar Bazaar</td>\n",
       "      <td>Furniture / Home Store</td>\n",
       "      <td>31.1065</td>\n",
       "      <td>NaN</td>\n",
       "      <td>77.1784</td>\n",
       "      <td>Fresh Juice Shop</td>\n",
       "      <td>31.1063</td>\n",
       "      <td>77.1782</td>\n",
       "      <td>150.0</td>\n",
       "      <td>1.0</td>\n",
       "      <td>0</td>\n",
       "      <td>Lakkar Bazar, Longwood, Shimla</td>\n",
       "      <td>-0.0002</td>\n",
       "      <td>-0.0002</td>\n",
       "    </tr>\n",
       "    <tr>\n",
       "      <td>3</td>\n",
       "      <td>The Ridge, Shimla</td>\n",
       "      <td>Monument / Landmark</td>\n",
       "      <td>31.1048</td>\n",
       "      <td>NaN</td>\n",
       "      <td>77.1758</td>\n",
       "      <td>HPMC Corner</td>\n",
       "      <td>31.1046</td>\n",
       "      <td>77.1749</td>\n",
       "      <td>100.0</td>\n",
       "      <td>1.0</td>\n",
       "      <td>0</td>\n",
       "      <td>Lakkar Bazaar, Longwood, Shimla</td>\n",
       "      <td>-0.0002</td>\n",
       "      <td>-0.0009</td>\n",
       "    </tr>\n",
       "    <tr>\n",
       "      <td>4</td>\n",
       "      <td>Wake and Bake Cafe</td>\n",
       "      <td>Café</td>\n",
       "      <td>31.1047</td>\n",
       "      <td>NaN</td>\n",
       "      <td>77.1732</td>\n",
       "      <td>Wake &amp; Bake</td>\n",
       "      <td>31.1047</td>\n",
       "      <td>77.1732</td>\n",
       "      <td>800.0</td>\n",
       "      <td>3.0</td>\n",
       "      <td>3.7</td>\n",
       "      <td>34/2, The Mall Shimla, Teh. &amp; Amp Distt, Shiml...</td>\n",
       "      <td>0.0000</td>\n",
       "      <td>0.0000</td>\n",
       "    </tr>\n",
       "    <tr>\n",
       "      <td>5</td>\n",
       "      <td>The Oberoi Cecil</td>\n",
       "      <td>Hotel</td>\n",
       "      <td>31.1032</td>\n",
       "      <td>NaN</td>\n",
       "      <td>77.1549</td>\n",
       "      <td>The Restaurant - The Oberoi Cecil</td>\n",
       "      <td>31.1032</td>\n",
       "      <td>77.1550</td>\n",
       "      <td>2200.0</td>\n",
       "      <td>4.0</td>\n",
       "      <td>3.3</td>\n",
       "      <td>The Oberoi Cecil, Nabha, State Museum Road, Lo...</td>\n",
       "      <td>0.0000</td>\n",
       "      <td>0.0001</td>\n",
       "    </tr>\n",
       "    <tr>\n",
       "      <td>6</td>\n",
       "      <td>Indian coffee house</td>\n",
       "      <td>Coffee Shop</td>\n",
       "      <td>31.1054</td>\n",
       "      <td>NaN</td>\n",
       "      <td>77.1710</td>\n",
       "      <td>Indian Coffee House</td>\n",
       "      <td>31.1054</td>\n",
       "      <td>77.1713</td>\n",
       "      <td>350.0</td>\n",
       "      <td>2.0</td>\n",
       "      <td>3.8</td>\n",
       "      <td>1, The, Mall Rd, Lower Bazar, Shimla, Himachal...</td>\n",
       "      <td>0.0000</td>\n",
       "      <td>0.0003</td>\n",
       "    </tr>\n",
       "    <tr>\n",
       "      <td>7</td>\n",
       "      <td>Sher-e-Punjab</td>\n",
       "      <td>Indian Restaurant</td>\n",
       "      <td>31.1033</td>\n",
       "      <td>NaN</td>\n",
       "      <td>77.1768</td>\n",
       "      <td>Sher-e-Punjab</td>\n",
       "      <td>31.1033</td>\n",
       "      <td>77.1770</td>\n",
       "      <td>600.0</td>\n",
       "      <td>2.0</td>\n",
       "      <td>3.3</td>\n",
       "      <td>Mall Road, Summer Hill, Shimla</td>\n",
       "      <td>0.0000</td>\n",
       "      <td>0.0002</td>\n",
       "    </tr>\n",
       "    <tr>\n",
       "      <td>8</td>\n",
       "      <td>Jakhoo Temple</td>\n",
       "      <td>Hindu Temple</td>\n",
       "      <td>31.1014</td>\n",
       "      <td>NaN</td>\n",
       "      <td>77.1823</td>\n",
       "      <td>Cafe Under Tree</td>\n",
       "      <td>31.1008</td>\n",
       "      <td>77.1847</td>\n",
       "      <td>1200.0</td>\n",
       "      <td>3.0</td>\n",
       "      <td>3.6</td>\n",
       "      <td>1, Below Jakhoo Temple, Jakhu, Longwood</td>\n",
       "      <td>-0.0006</td>\n",
       "      <td>0.0024</td>\n",
       "    </tr>\n",
       "    <tr>\n",
       "      <td>9</td>\n",
       "      <td>Domino's Pizza</td>\n",
       "      <td>Pizza Place</td>\n",
       "      <td>31.1049</td>\n",
       "      <td>NaN</td>\n",
       "      <td>77.1729</td>\n",
       "      <td>Domino's Pizza</td>\n",
       "      <td>31.1049</td>\n",
       "      <td>77.1728</td>\n",
       "      <td>400.0</td>\n",
       "      <td>2.0</td>\n",
       "      <td>3.5</td>\n",
       "      <td>24, Mall Road, Summer Hill, Shimla</td>\n",
       "      <td>0.0000</td>\n",
       "      <td>-0.0001</td>\n",
       "    </tr>\n",
       "    <tr>\n",
       "      <td>10</td>\n",
       "      <td>Baljees Fascination</td>\n",
       "      <td>Indian Restaurant</td>\n",
       "      <td>31.1047</td>\n",
       "      <td>NaN</td>\n",
       "      <td>77.1728</td>\n",
       "      <td>Baljees Sweet Shop</td>\n",
       "      <td>31.1048</td>\n",
       "      <td>77.1729</td>\n",
       "      <td>300.0</td>\n",
       "      <td>1.0</td>\n",
       "      <td>3.5</td>\n",
       "      <td>Near Scandal Point, Summer Hill, Shimla</td>\n",
       "      <td>0.0001</td>\n",
       "      <td>0.0001</td>\n",
       "    </tr>\n",
       "    <tr>\n",
       "      <td>11</td>\n",
       "      <td>Dim Sum</td>\n",
       "      <td>Chinese Restaurant</td>\n",
       "      <td>31.1045</td>\n",
       "      <td>NaN</td>\n",
       "      <td>77.1733</td>\n",
       "      <td>Dim Sum</td>\n",
       "      <td>31.1049</td>\n",
       "      <td>77.1728</td>\n",
       "      <td>450.0</td>\n",
       "      <td>2.0</td>\n",
       "      <td>3.4</td>\n",
       "      <td>Near Scandal Point, Summer Hill, Shimla</td>\n",
       "      <td>0.0004</td>\n",
       "      <td>-0.0005</td>\n",
       "    </tr>\n",
       "    <tr>\n",
       "      <td>12</td>\n",
       "      <td>Hotel Combermere</td>\n",
       "      <td>Hotel</td>\n",
       "      <td>31.1022</td>\n",
       "      <td>NaN</td>\n",
       "      <td>77.1773</td>\n",
       "      <td>Seventh Heaven</td>\n",
       "      <td>31.1021</td>\n",
       "      <td>77.1773</td>\n",
       "      <td>2500.0</td>\n",
       "      <td>4.0</td>\n",
       "      <td>3.2</td>\n",
       "      <td>Hotel Combermere, Mall Road, Summer Hill, Shimla</td>\n",
       "      <td>-0.0001</td>\n",
       "      <td>0.0000</td>\n",
       "    </tr>\n",
       "    <tr>\n",
       "      <td>13</td>\n",
       "      <td>Cafe Sol</td>\n",
       "      <td>Italian Restaurant</td>\n",
       "      <td>31.1022</td>\n",
       "      <td>NaN</td>\n",
       "      <td>77.1774</td>\n",
       "      <td>Agarwal Bhojanalya</td>\n",
       "      <td>31.1021</td>\n",
       "      <td>77.1773</td>\n",
       "      <td>500.0</td>\n",
       "      <td>2.0</td>\n",
       "      <td>0</td>\n",
       "      <td>The Mall, Summer Hill, Shimla</td>\n",
       "      <td>-0.0001</td>\n",
       "      <td>-0.0001</td>\n",
       "    </tr>\n",
       "    <tr>\n",
       "      <td>14</td>\n",
       "      <td>Café Coffee Day</td>\n",
       "      <td>Coffee Shop</td>\n",
       "      <td>31.1045</td>\n",
       "      <td>NaN</td>\n",
       "      <td>77.1747</td>\n",
       "      <td>Cafe Coffee Day</td>\n",
       "      <td>31.1044</td>\n",
       "      <td>77.1747</td>\n",
       "      <td>500.0</td>\n",
       "      <td>2.0</td>\n",
       "      <td>3.2</td>\n",
       "      <td>Middle Bazaar, Mall Road, Summer Hill, Shimla</td>\n",
       "      <td>-0.0001</td>\n",
       "      <td>0.0000</td>\n",
       "    </tr>\n",
       "    <tr>\n",
       "      <td>15</td>\n",
       "      <td>Ashiana Restaraunt</td>\n",
       "      <td>Indian Restaurant</td>\n",
       "      <td>31.1046</td>\n",
       "      <td>NaN</td>\n",
       "      <td>77.1743</td>\n",
       "      <td>HPTDC Goofa Ashiana Bar and Restaurant</td>\n",
       "      <td>31.1047</td>\n",
       "      <td>77.1742</td>\n",
       "      <td>2200.0</td>\n",
       "      <td>4.0</td>\n",
       "      <td>3.4</td>\n",
       "      <td>Ridge, The Mall, Longwood</td>\n",
       "      <td>0.0001</td>\n",
       "      <td>-0.0001</td>\n",
       "    </tr>\n",
       "    <tr>\n",
       "      <td>16</td>\n",
       "      <td>Kufri</td>\n",
       "      <td>Scenic Lookout</td>\n",
       "      <td>31.0947</td>\n",
       "      <td>NaN</td>\n",
       "      <td>77.2743</td>\n",
       "      <td>Promenande</td>\n",
       "      <td>31.0992</td>\n",
       "      <td>77.2681</td>\n",
       "      <td>500.0</td>\n",
       "      <td>2.0</td>\n",
       "      <td>0</td>\n",
       "      <td>Royal Tulip Luxury Hotel NH 22 Kufri, Summer H...</td>\n",
       "      <td>0.0045</td>\n",
       "      <td>-0.0062</td>\n",
       "    </tr>\n",
       "    <tr>\n",
       "      <td>17</td>\n",
       "      <td>Radisson Jass Hotel</td>\n",
       "      <td>Hotel</td>\n",
       "      <td>31.1115</td>\n",
       "      <td>NaN</td>\n",
       "      <td>77.1774</td>\n",
       "      <td>Spice Bowl</td>\n",
       "      <td>31.1073</td>\n",
       "      <td>77.1782</td>\n",
       "      <td>800.0</td>\n",
       "      <td>3.0</td>\n",
       "      <td>0</td>\n",
       "      <td>Hotel Dhroov Shimla, Circular Road, Lakkar Baz...</td>\n",
       "      <td>-0.0042</td>\n",
       "      <td>0.0008</td>\n",
       "    </tr>\n",
       "    <tr>\n",
       "      <td>18</td>\n",
       "      <td>Kufri</td>\n",
       "      <td>Ski Area</td>\n",
       "      <td>31.0990</td>\n",
       "      <td>NaN</td>\n",
       "      <td>77.2674</td>\n",
       "      <td>Promenande</td>\n",
       "      <td>31.0992</td>\n",
       "      <td>77.2681</td>\n",
       "      <td>500.0</td>\n",
       "      <td>2.0</td>\n",
       "      <td>0</td>\n",
       "      <td>Royal Tulip Luxury Hotel NH 22 Kufri, Summer H...</td>\n",
       "      <td>0.0002</td>\n",
       "      <td>0.0007</td>\n",
       "    </tr>\n",
       "    <tr>\n",
       "      <td>19</td>\n",
       "      <td>Kufri Fun World &amp; Skii Point</td>\n",
       "      <td>Mountain</td>\n",
       "      <td>31.0948</td>\n",
       "      <td>NaN</td>\n",
       "      <td>77.2747</td>\n",
       "      <td>Promenande</td>\n",
       "      <td>31.0992</td>\n",
       "      <td>77.2681</td>\n",
       "      <td>500.0</td>\n",
       "      <td>2.0</td>\n",
       "      <td>0</td>\n",
       "      <td>Royal Tulip Luxury Hotel NH 22 Kufri, Summer H...</td>\n",
       "      <td>0.0044</td>\n",
       "      <td>-0.0066</td>\n",
       "    </tr>\n",
       "  </tbody>\n",
       "</table>\n",
       "</div>"
      ],
      "text/plain": [
       "                            name              categories      lat long  \\\n",
       "0                         Shimla                    City  31.1053  NaN   \n",
       "1                       The Mall                   Plaza  31.1046  NaN   \n",
       "2                  Lakkar Bazaar  Furniture / Home Store  31.1065  NaN   \n",
       "3              The Ridge, Shimla     Monument / Landmark  31.1048  NaN   \n",
       "4             Wake and Bake Cafe                    Café  31.1047  NaN   \n",
       "5               The Oberoi Cecil                   Hotel  31.1032  NaN   \n",
       "6            Indian coffee house             Coffee Shop  31.1054  NaN   \n",
       "7                  Sher-e-Punjab       Indian Restaurant  31.1033  NaN   \n",
       "8                  Jakhoo Temple            Hindu Temple  31.1014  NaN   \n",
       "9                 Domino's Pizza             Pizza Place  31.1049  NaN   \n",
       "10           Baljees Fascination       Indian Restaurant  31.1047  NaN   \n",
       "11                       Dim Sum      Chinese Restaurant  31.1045  NaN   \n",
       "12              Hotel Combermere                   Hotel  31.1022  NaN   \n",
       "13                      Cafe Sol      Italian Restaurant  31.1022  NaN   \n",
       "14               Café Coffee Day             Coffee Shop  31.1045  NaN   \n",
       "15            Ashiana Restaraunt       Indian Restaurant  31.1046  NaN   \n",
       "16                         Kufri          Scenic Lookout  31.0947  NaN   \n",
       "17           Radisson Jass Hotel                   Hotel  31.1115  NaN   \n",
       "18                         Kufri                Ski Area  31.0990  NaN   \n",
       "19  Kufri Fun World & Skii Point                Mountain  31.0948  NaN   \n",
       "\n",
       "        lng                                   venue  latitude  longitude  \\\n",
       "0   77.1717                                 Dobby's   31.1052    77.1716   \n",
       "1   77.1751                               Honey Hut   31.1044    77.1750   \n",
       "2   77.1784                        Fresh Juice Shop   31.1063    77.1782   \n",
       "3   77.1758                             HPMC Corner   31.1046    77.1749   \n",
       "4   77.1732                             Wake & Bake   31.1047    77.1732   \n",
       "5   77.1549       The Restaurant - The Oberoi Cecil   31.1032    77.1550   \n",
       "6   77.1710                     Indian Coffee House   31.1054    77.1713   \n",
       "7   77.1768                           Sher-e-Punjab   31.1033    77.1770   \n",
       "8   77.1823                         Cafe Under Tree   31.1008    77.1847   \n",
       "9   77.1729                          Domino's Pizza   31.1049    77.1728   \n",
       "10  77.1728                      Baljees Sweet Shop   31.1048    77.1729   \n",
       "11  77.1733                                 Dim Sum   31.1049    77.1728   \n",
       "12  77.1773                          Seventh Heaven   31.1021    77.1773   \n",
       "13  77.1774                      Agarwal Bhojanalya   31.1021    77.1773   \n",
       "14  77.1747                         Cafe Coffee Day   31.1044    77.1747   \n",
       "15  77.1743  HPTDC Goofa Ashiana Bar and Restaurant   31.1047    77.1742   \n",
       "16  77.2743                              Promenande   31.0992    77.2681   \n",
       "17  77.1774                              Spice Bowl   31.1073    77.1782   \n",
       "18  77.2674                              Promenande   31.0992    77.2681   \n",
       "19  77.2747                              Promenande   31.0992    77.2681   \n",
       "\n",
       "    price_for_two  price_range rating  \\\n",
       "0           350.0          2.0      0   \n",
       "1           450.0          2.0    3.7   \n",
       "2           150.0          1.0      0   \n",
       "3           100.0          1.0      0   \n",
       "4           800.0          3.0    3.7   \n",
       "5          2200.0          4.0    3.3   \n",
       "6           350.0          2.0    3.8   \n",
       "7           600.0          2.0    3.3   \n",
       "8          1200.0          3.0    3.6   \n",
       "9           400.0          2.0    3.5   \n",
       "10          300.0          1.0    3.5   \n",
       "11          450.0          2.0    3.4   \n",
       "12         2500.0          4.0    3.2   \n",
       "13          500.0          2.0      0   \n",
       "14          500.0          2.0    3.2   \n",
       "15         2200.0          4.0    3.4   \n",
       "16          500.0          2.0      0   \n",
       "17          800.0          3.0      0   \n",
       "18          500.0          2.0      0   \n",
       "19          500.0          2.0      0   \n",
       "\n",
       "                                              address  lat_diff  lng_diff  \n",
       "0   Mall Road, Near Syndicate Bank, Summer Hill, S...   -0.0001   -0.0001  \n",
       "1   Khadi Bhawan, Middle Bazaar, Mall Road, Summer...   -0.0002   -0.0001  \n",
       "2                      Lakkar Bazar, Longwood, Shimla   -0.0002   -0.0002  \n",
       "3                     Lakkar Bazaar, Longwood, Shimla   -0.0002   -0.0009  \n",
       "4   34/2, The Mall Shimla, Teh. & Amp Distt, Shiml...    0.0000    0.0000  \n",
       "5   The Oberoi Cecil, Nabha, State Museum Road, Lo...    0.0000    0.0001  \n",
       "6   1, The, Mall Rd, Lower Bazar, Shimla, Himachal...    0.0000    0.0003  \n",
       "7                      Mall Road, Summer Hill, Shimla    0.0000    0.0002  \n",
       "8             1, Below Jakhoo Temple, Jakhu, Longwood   -0.0006    0.0024  \n",
       "9                  24, Mall Road, Summer Hill, Shimla    0.0000   -0.0001  \n",
       "10            Near Scandal Point, Summer Hill, Shimla    0.0001    0.0001  \n",
       "11            Near Scandal Point, Summer Hill, Shimla    0.0004   -0.0005  \n",
       "12   Hotel Combermere, Mall Road, Summer Hill, Shimla   -0.0001    0.0000  \n",
       "13                      The Mall, Summer Hill, Shimla   -0.0001   -0.0001  \n",
       "14      Middle Bazaar, Mall Road, Summer Hill, Shimla   -0.0001    0.0000  \n",
       "15                          Ridge, The Mall, Longwood    0.0001   -0.0001  \n",
       "16  Royal Tulip Luxury Hotel NH 22 Kufri, Summer H...    0.0045   -0.0062  \n",
       "17  Hotel Dhroov Shimla, Circular Road, Lakkar Baz...   -0.0042    0.0008  \n",
       "18  Royal Tulip Luxury Hotel NH 22 Kufri, Summer H...    0.0002    0.0007  \n",
       "19  Royal Tulip Luxury Hotel NH 22 Kufri, Summer H...    0.0044   -0.0066  "
      ]
     },
     "execution_count": 13,
     "metadata": {},
     "output_type": "execute_result"
    }
   ],
   "source": [
    "chosen_venues = ds[(abs(ds['lat_diff']) <= 0.01) & (abs(ds['lng_diff'])<= 0.01)].reset_index(drop =True)\n",
    "chosen_venues"
   ]
  },
  {
   "cell_type": "code",
   "execution_count": 20,
   "metadata": {},
   "outputs": [],
   "source": [
    "chosen_venues['average_price'] = chosen_venues['price_for_two']/2\n",
    "chosen_venues = chosen_venues.drop(columns = ['name', 'lat', 'lng', 'lat_diff', 'lng_diff', 'price_for_two'])"
   ]
  },
  {
   "cell_type": "markdown",
   "metadata": {},
   "source": [
    "##  Methodology"
   ]
  },
  {
   "cell_type": "markdown",
   "metadata": {},
   "source": [
    "This project aims at identifying the venues in Shimla based on their rating and average costs. This would enable any visitor to identify the venues where the want to visit.\n",
    "\n",
    "As a first step, we retrieved the data using two APIs (Foursquare and Zomato). We extracted venue information from Shimla, with a range of 10 Km. The latitude and longitude values are then used to fetch venue ratings and prices from Zomato.\n",
    "\n",
    "Secondly, we then explored the data retrieved from the two APIs on the map and identified the top category types. The data from the two sources is carefully combined based on the name, latitude and longitude values from the two sources. The final dataset would include the rating and price values for each venue.\n",
    "\n",
    "Next, we'll analyse the data that we created based on the ratings and price of each venue. We'll identify places where many venues are located so that any visitor can go to one place and enjoy the option to choose amongst many venue options. We'll also explore areas that are high rated and those that are low rated while also plotting the map of high and low priced venues. Lastly, we'll cluster the venues based on the available information of each venue. This will allow us to clearly identify which venues can be recommended and with what characteristics.\n",
    "\n",
    "Finally, we'll discuss and conclude which venues to be explored based on visitor requirement of rating and cost."
   ]
  },
  {
   "cell_type": "markdown",
   "metadata": {},
   "source": [
    "###  Analysis"
   ]
  },
  {
   "cell_type": "markdown",
   "metadata": {},
   "source": [
    "The complete dataset is now in its final form.\n",
    "\n",
    "We will inspect these venues based on their rating. The rating of a venue are based on user reviews and belongs to a range from 1 to 5. We'll also analyse the venues based on their price per person as well as the price range."
   ]
  },
  {
   "cell_type": "code",
   "execution_count": 21,
   "metadata": {},
   "outputs": [
    {
     "data": {
      "text/plain": [
       "<BarContainer object of 15 artists>"
      ]
     },
     "execution_count": 21,
     "metadata": {},
     "output_type": "execute_result"
    },
    {
     "data": {
      "image/png": "[encoded data removed]",
      "text/plain": [
       "<Figure size 1440x864 with 1 Axes>"
      ]
     },
     "metadata": {
      "needs_background": "light"
     },
     "output_type": "display_data"
    }
   ],
   "source": [
    "#histogram\n",
    "venue_distribution = chosen_venues['categories'].value_counts()\n",
    "colors = cm.rainbow(np.linspace(0, 1, len(venue_distribution.index)))\n",
    "plt.figure(figsize = (20, 12))\n",
    "plt.xticks(rotation = 90)\n",
    "plt.xlabel(\"Venue category\", fontsize = 16)\n",
    "plt.ylabel(\"Count\", fontsize = 16)\n",
    "plt.title(\"Count of venues of each category\", fontsize = 16)\n",
    "plt.bar(venue_distribution.index, venue_distribution.values, color = colors)\n"
   ]
  },
  {
   "cell_type": "markdown",
   "metadata": {},
   "source": [
    "###  Rating"
   ]
  },
  {
   "cell_type": "markdown",
   "metadata": {},
   "source": [
    "Rating of a venue is an important factor on which a visitor decides whether it is worth it to visit the place. To cater to this, we will first see what is the average rating for all the venues in the city. Next, we will plot the venues on the map and color code them.\n",
    "\n",
    "We'll first identify the various rating values and plot them as a bar plot with their counts to see the most common rating.\n"
   ]
  },
  {
   "cell_type": "code",
   "execution_count": 22,
   "metadata": {},
   "outputs": [
    {
     "data": {
      "text/plain": [
       "Text(0.5, 1.0, 'Count of venues with given rating')"
      ]
     },
     "execution_count": 22,
     "metadata": {},
     "output_type": "execute_result"
    },
    {
     "data": {
      "image/png": "[encoded data removed]",
      "text/plain": [
       "<Figure size 1440x864 with 1 Axes>"
      ]
     },
     "metadata": {
      "needs_background": "light"
     },
     "output_type": "display_data"
    }
   ],
   "source": [
    "#rating\n",
    "chosen_venues['rating'] = chosen_venues['rating'].astype(float)\n",
    "rating = chosen_venues['rating'].value_counts().sort_index()\n",
    "plt.figure(figsize = (20, 12))\n",
    "plt.bar(rating.index, rating.values, color = cm.rainbow(np.linspace(0, 1, len(rating.index))))\n",
    "plt.xlabel(\"Rating\", fontsize = 16)\n",
    "plt.ylabel(\"Count\", fontsize = 16)\n",
    "plt.title(\"Count of venues with given rating\", fontsize = 16)"
   ]
  },
  {
   "cell_type": "code",
   "execution_count": 23,
   "metadata": {},
   "outputs": [],
   "source": [
    "bins = [1.0,2.0,3.0,5.0]\n",
    "labels = ['Low','Mediocre','Good']\n",
    "chosen_venues['rating_bin'] = pd.cut(chosen_venues['rating'].astype(float),bins = bins,labels= labels, include_lowest =True)"
   ]
  },
  {
   "cell_type": "code",
   "execution_count": 24,
   "metadata": {
    "scrolled": true
   },
   "outputs": [
    {
     "data": {
      "text/html": [
       "<div style=\"width:100%;\"><div style=\"position:relative;width:100%;height:0;padding-bottom:60%;\"><iframe src=\"data:text/html;charset=utf-8;base64,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\" style=\"position:absolute;width:100%;height:100%;left:0;top:0;border:none !important;\" allowfullscreen webkitallowfullscreen mozallowfullscreen></iframe></div></div>"
      ],
      "text/plain": [
       "<folium.folium.Map at 0x1d0da0837c8>"
      ]
     },
     "execution_count": 24,
     "metadata": {},
     "output_type": "execute_result"
    }
   ],
   "source": [
    "color_map = {'Low':'red','Mediocre':'yellow','Good':'green'}\n",
    "shimla_map = folium.Map(location = [latitude,longitude],zoom_start = 12)\n",
    "for name,address,latitude,longitude,rating_bin in zip(chosen_venues['venue'],chosen_venues['address'],chosen_venues['latitude'],chosen_venues['longitude'],chosen_venues['rating_bin']):\n",
    "    label = '{}, {}'.format(name,address)\n",
    "    label = folium.Popup(label, parse_html =True)\n",
    "    folium.Marker([latitude,longitude],popup = label).add_to(shimla_map)\n",
    "shimla_map.save(\"venues_ratings.html\")\n",
    "shimla_map"
   ]
  },
  {
   "cell_type": "markdown",
   "metadata": {},
   "source": [
    "### Price"
   ]
  },
  {
   "cell_type": "markdown",
   "metadata": {},
   "source": [
    "We will now take a look the venues based on the price values. We have two price features for our venues, one is average_price which defines the average cost for one person and the other is price_range which determines the price range as defined by Zomato.\n",
    "We will first explore the average_price using a scatter plot between the price and the count of venues with that average price. We'll size the points based on the price to highlight their price.\n"
   ]
  },
  {
   "cell_type": "code",
   "execution_count": 25,
   "metadata": {},
   "outputs": [
    {
     "data": {
      "text/plain": [
       "Text(0.5, 1.0, 'Count of venues with given average price')"
      ]
     },
     "execution_count": 25,
     "metadata": {},
     "output_type": "execute_result"
    },
    {
     "data": {
      "image/png": "[encoded data removed]",
      "text/plain": [
       "<Figure size 1440x864 with 1 Axes>"
      ]
     },
     "metadata": {
      "needs_background": "light"
     },
     "output_type": "display_data"
    }
   ],
   "source": [
    "average_prices = chosen_venues['average_price'].value_counts().sort_index()\n",
    "plt.figure(figsize = (20, 12))\n",
    "plt.scatter(average_prices.index, \n",
    "            average_prices.values, \n",
    "            s = average_prices.index*10, \n",
    "            c = cm.rainbow(np.linspace(0, 1, len(average_prices.index))))\n",
    "plt.xlabel(\"Price per person\", fontsize = 16)\n",
    "plt.ylabel(\"Venue count\", fontsize = 16)\n",
    "plt.title(\"Count of venues with given average price\", fontsize = 16)"
   ]
  },
  {
   "cell_type": "code",
   "execution_count": 30,
   "metadata": {
    "scrolled": true
   },
   "outputs": [
    {
     "data": {
      "text/html": [
       "<div style=\"width:100%;\"><div style=\"position:relative;width:100%;height:0;padding-bottom:60%;\"><iframe src=\"data:text/html;charset=utf-8;base64,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\" style=\"position:absolute;width:100%;height:100%;left:0;top:0;border:none !important;\" allowfullscreen webkitallowfullscreen mozallowfullscreen></iframe></div></div>"
      ],
      "text/plain": [
       "<folium.folium.Map at 0x1d0dc629688>"
      ]
     },
     "execution_count": 30,
     "metadata": {},
     "output_type": "execute_result"
    }
   ],
   "source": [
    "color_map = color_map = {'1.0': 'green', '2.0': 'darkgreen', '3.0': 'orange', '4.0': 'red'}\n",
    "shimla_map  = folium.Map(loaction = [latitude,longitude],zoom_start = 12.30)\n",
    "for name,address, latitude,longitude, price_range in zip(chosen_venues['venue'],chosen_venues['address'],chosen_venues['latitude'],chosen_venues['longitude'],chosen_venues['price_range'].astype(str)):\n",
    "    label = '{}, {}'.format(name,address)\n",
    "    label = folium.Popup(label, parse_html = True)\n",
    "    folium.Marker([latitude,longitude], popup= label).add_to(shimla_map)\n",
    "shimla_map.save(\"Venues prices.html\")\n",
    "shimla_map"
   ]
  },
  {
   "cell_type": "markdown",
   "metadata": {},
   "source": [
    "### Clustering"
   ]
  },
  {
   "cell_type": "markdown",
   "metadata": {},
   "source": [
    "We will now cluster all these venues based on their price range, location and more to identify similar venues and the relationship amongst them. We'll cluster the venues into two separate groups."
   ]
  },
  {
   "cell_type": "code",
   "execution_count": 36,
   "metadata": {},
   "outputs": [
    {
     "ename": "ValueError",
     "evalue": "cannot insert cluster_labels, already exists",
     "output_type": "error",
     "traceback": [
      "\u001b[1;31m---------------------------------------------------------------------------\u001b[0m",
      "\u001b[1;31mValueError\u001b[0m                                Traceback (most recent call last)",
      "\u001b[1;32m<ipython-input-36-585a374c03b2>\u001b[0m in \u001b[0;36m<module>\u001b[1;34m\u001b[0m\n\u001b[0;32m      8\u001b[0m \u001b[0mkMeans\u001b[0m \u001b[1;33m=\u001b[0m \u001b[0mKMeans\u001b[0m\u001b[1;33m(\u001b[0m\u001b[0mn_clusters\u001b[0m \u001b[1;33m=\u001b[0m \u001b[0mNO_OF_CLUSTERS\u001b[0m\u001b[1;33m,\u001b[0m\u001b[0mrandom_state\u001b[0m \u001b[1;33m=\u001b[0m\u001b[1;36m2\u001b[0m\u001b[1;33m)\u001b[0m\u001b[1;33m\u001b[0m\u001b[1;33m\u001b[0m\u001b[0m\n\u001b[0;32m      9\u001b[0m \u001b[0mkMeans\u001b[0m\u001b[1;33m.\u001b[0m\u001b[0mfit\u001b[0m\u001b[1;33m(\u001b[0m\u001b[0mclustering\u001b[0m\u001b[1;33m)\u001b[0m\u001b[1;33m\u001b[0m\u001b[1;33m\u001b[0m\u001b[0m\n\u001b[1;32m---> 10\u001b[1;33m \u001b[0mchosen_venues\u001b[0m\u001b[1;33m.\u001b[0m\u001b[0minsert\u001b[0m\u001b[1;33m(\u001b[0m\u001b[1;36m0\u001b[0m\u001b[1;33m,\u001b[0m \u001b[1;34m'cluster_labels'\u001b[0m\u001b[1;33m,\u001b[0m \u001b[0mkMeans\u001b[0m\u001b[1;33m.\u001b[0m\u001b[0mlabels_\u001b[0m\u001b[1;33m)\u001b[0m\u001b[1;33m\u001b[0m\u001b[1;33m\u001b[0m\u001b[0m\n\u001b[0m\u001b[0;32m     11\u001b[0m \u001b[0mchosen_venues\u001b[0m\u001b[1;33m.\u001b[0m\u001b[0mhead\u001b[0m\u001b[1;33m(\u001b[0m\u001b[1;36m5\u001b[0m\u001b[1;33m)\u001b[0m\u001b[1;33m\u001b[0m\u001b[1;33m\u001b[0m\u001b[0m\n",
      "\u001b[1;32mC:\\Anaconda3\\lib\\site-packages\\pandas\\core\\frame.py\u001b[0m in \u001b[0;36minsert\u001b[1;34m(self, loc, column, value, allow_duplicates)\u001b[0m\n\u001b[0;32m   3574\u001b[0m         \u001b[0mself\u001b[0m\u001b[1;33m.\u001b[0m\u001b[0m_ensure_valid_index\u001b[0m\u001b[1;33m(\u001b[0m\u001b[0mvalue\u001b[0m\u001b[1;33m)\u001b[0m\u001b[1;33m\u001b[0m\u001b[1;33m\u001b[0m\u001b[0m\n\u001b[0;32m   3575\u001b[0m         \u001b[0mvalue\u001b[0m \u001b[1;33m=\u001b[0m \u001b[0mself\u001b[0m\u001b[1;33m.\u001b[0m\u001b[0m_sanitize_column\u001b[0m\u001b[1;33m(\u001b[0m\u001b[0mcolumn\u001b[0m\u001b[1;33m,\u001b[0m \u001b[0mvalue\u001b[0m\u001b[1;33m,\u001b[0m \u001b[0mbroadcast\u001b[0m\u001b[1;33m=\u001b[0m\u001b[1;32mFalse\u001b[0m\u001b[1;33m)\u001b[0m\u001b[1;33m\u001b[0m\u001b[1;33m\u001b[0m\u001b[0m\n\u001b[1;32m-> 3576\u001b[1;33m         \u001b[0mself\u001b[0m\u001b[1;33m.\u001b[0m\u001b[0m_data\u001b[0m\u001b[1;33m.\u001b[0m\u001b[0minsert\u001b[0m\u001b[1;33m(\u001b[0m\u001b[0mloc\u001b[0m\u001b[1;33m,\u001b[0m \u001b[0mcolumn\u001b[0m\u001b[1;33m,\u001b[0m \u001b[0mvalue\u001b[0m\u001b[1;33m,\u001b[0m \u001b[0mallow_duplicates\u001b[0m\u001b[1;33m=\u001b[0m\u001b[0mallow_duplicates\u001b[0m\u001b[1;33m)\u001b[0m\u001b[1;33m\u001b[0m\u001b[1;33m\u001b[0m\u001b[0m\n\u001b[0m\u001b[0;32m   3577\u001b[0m \u001b[1;33m\u001b[0m\u001b[0m\n\u001b[0;32m   3578\u001b[0m     \u001b[1;32mdef\u001b[0m \u001b[0massign\u001b[0m\u001b[1;33m(\u001b[0m\u001b[0mself\u001b[0m\u001b[1;33m,\u001b[0m \u001b[1;33m**\u001b[0m\u001b[0mkwargs\u001b[0m\u001b[1;33m)\u001b[0m\u001b[1;33m:\u001b[0m\u001b[1;33m\u001b[0m\u001b[1;33m\u001b[0m\u001b[0m\n",
      "\u001b[1;32mC:\\Anaconda3\\lib\\site-packages\\pandas\\core\\internals\\managers.py\u001b[0m in \u001b[0;36minsert\u001b[1;34m(self, loc, item, value, allow_duplicates)\u001b[0m\n\u001b[0;32m   1171\u001b[0m         \u001b[1;32mif\u001b[0m \u001b[1;32mnot\u001b[0m \u001b[0mallow_duplicates\u001b[0m \u001b[1;32mand\u001b[0m \u001b[0mitem\u001b[0m \u001b[1;32min\u001b[0m \u001b[0mself\u001b[0m\u001b[1;33m.\u001b[0m\u001b[0mitems\u001b[0m\u001b[1;33m:\u001b[0m\u001b[1;33m\u001b[0m\u001b[1;33m\u001b[0m\u001b[0m\n\u001b[0;32m   1172\u001b[0m             \u001b[1;31m# Should this be a different kind of error??\u001b[0m\u001b[1;33m\u001b[0m\u001b[1;33m\u001b[0m\u001b[1;33m\u001b[0m\u001b[0m\n\u001b[1;32m-> 1173\u001b[1;33m             \u001b[1;32mraise\u001b[0m \u001b[0mValueError\u001b[0m\u001b[1;33m(\u001b[0m\u001b[1;34m\"cannot insert {}, already exists\"\u001b[0m\u001b[1;33m.\u001b[0m\u001b[0mformat\u001b[0m\u001b[1;33m(\u001b[0m\u001b[0mitem\u001b[0m\u001b[1;33m)\u001b[0m\u001b[1;33m)\u001b[0m\u001b[1;33m\u001b[0m\u001b[1;33m\u001b[0m\u001b[0m\n\u001b[0m\u001b[0;32m   1174\u001b[0m \u001b[1;33m\u001b[0m\u001b[0m\n\u001b[0;32m   1175\u001b[0m         \u001b[1;32mif\u001b[0m \u001b[1;32mnot\u001b[0m \u001b[0misinstance\u001b[0m\u001b[1;33m(\u001b[0m\u001b[0mloc\u001b[0m\u001b[1;33m,\u001b[0m \u001b[0mint\u001b[0m\u001b[1;33m)\u001b[0m\u001b[1;33m:\u001b[0m\u001b[1;33m\u001b[0m\u001b[1;33m\u001b[0m\u001b[0m\n",
      "\u001b[1;31mValueError\u001b[0m: cannot insert cluster_labels, already exists"
     ]
    }
   ],
   "source": [
    "#clustering\n",
    "\n",
    "from sklearn.cluster import KMeans\n",
    "\n",
    "NO_OF_CLUSTERS = 2\n",
    "\n",
    "clustering = chosen_venues.drop(['venue', 'address', 'rating_bin', 'categories','long'],1)\n",
    "kMeans = KMeans(n_clusters = NO_OF_CLUSTERS,random_state =2)\n",
    "kMeans.fit(clustering)\n",
    "chosen_venues.insert(0, 'cluster_labels', kMeans.labels_)\n",
    "chosen_venues.head(5)"
   ]
  },
  {
   "cell_type": "code",
   "execution_count": 35,
   "metadata": {
    "scrolled": true
   },
   "outputs": [
    {
     "data": {
      "text/html": [
       "<div style=\"width:100%;\"><div style=\"position:relative;width:100%;height:0;padding-bottom:60%;\"><iframe src=\"data:text/html;charset=utf-8;base64,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\" style=\"position:absolute;width:100%;height:100%;left:0;top:0;border:none !important;\" allowfullscreen webkitallowfullscreen mozallowfullscreen></iframe></div></div>"
      ],
      "text/plain": [
       "<folium.folium.Map at 0x1d0dc690a88>"
      ]
     },
     "execution_count": 35,
     "metadata": {},
     "output_type": "execute_result"
    }
   ],
   "source": [
    "shimla_map = folium.Map(location = [latitude,longitude], zoom_start = 13)\n",
    "color_map = { 0: 'green', 1: 'red'}\n",
    "\n",
    "# add venues to the map\n",
    "markers_colors = []\n",
    "for venue, address, cluster, latitude, longitude in zip(chosen_venues['venue'], \n",
    "                                                        chosen_venues['address'], \n",
    "                                                        chosen_venues['cluster_labels'], \n",
    "                                                        chosen_venues['latitude'], \n",
    "                                                        chosen_venues['longitude']):\n",
    "    label = folium.Popup(str(venue) + ', ' + str(address), parse_html = True)\n",
    "    folium.CircleMarker(\n",
    "        [latitude, longitude],\n",
    "        radius = 5,\n",
    "        popup = label,\n",
    "        color = color_map[cluster],\n",
    "        fill = True,\n",
    "        fill_color = color_map[cluster],\n",
    "        fill_opacity = 0.7).add_to(shimla_map)\n",
    "\n",
    "# add cluster centers to the map\n",
    "for index, cluster in enumerate(kMeans.cluster_centers_):\n",
    "    latitude = cluster[0]\n",
    "    longitude = cluster[1]\n",
    "    label = folium.Popup(\"Cluster: \" + str(index), parse_html = True)\n",
    "    folium.CircleMarker(\n",
    "        [latitude, longitude],\n",
    "        radius = 10,\n",
    "        popup = label,\n",
    "        color = color_map[index],\n",
    "        fill = True,\n",
    "        fill_color = color_map[index],\n",
    "        fill_opacity = 0.7).add_to(shimla_map)\n",
    "\n",
    "shimla_map.save(\"venues clusters.html\")\n",
    "shimla_map"
   ]
  },
  {
   "cell_type": "markdown",
   "metadata": {},
   "source": [
    "\n",
    "\n",
    "From the map, we see the two clusters:\n",
    "\n",
    "    The first cluster is spread across the whole city and includes the majority venues.\n",
    "    The second cluster is very sparsely spread and has very limited venues"
   ]
  },
  {
   "cell_type": "code",
   "execution_count": 38,
   "metadata": {},
   "outputs": [
    {
     "name": "stdout",
     "output_type": "stream",
     "text": [
      "Cluster 0\n"
     ]
    },
    {
     "data": {
      "text/html": [
       "<div>\n",
       "<style scoped>\n",
       "    .dataframe tbody tr th:only-of-type {\n",
       "        vertical-align: middle;\n",
       "    }\n",
       "\n",
       "    .dataframe tbody tr th {\n",
       "        vertical-align: top;\n",
       "    }\n",
       "\n",
       "    .dataframe thead th {\n",
       "        text-align: right;\n",
       "    }\n",
       "</style>\n",
       "<table border=\"1\" class=\"dataframe\">\n",
       "  <thead>\n",
       "    <tr style=\"text-align: right;\">\n",
       "      <th></th>\n",
       "      <th>cluster_labels</th>\n",
       "      <th>categories</th>\n",
       "      <th>long</th>\n",
       "      <th>venue</th>\n",
       "      <th>latitude</th>\n",
       "      <th>longitude</th>\n",
       "      <th>price_range</th>\n",
       "      <th>rating</th>\n",
       "      <th>address</th>\n",
       "      <th>rating_bin</th>\n",
       "      <th>average_price</th>\n",
       "    </tr>\n",
       "  </thead>\n",
       "  <tbody>\n",
       "    <tr>\n",
       "      <td>0</td>\n",
       "      <td>0</td>\n",
       "      <td>Hotel</td>\n",
       "      <td>NaN</td>\n",
       "      <td>The Restaurant - The Oberoi Cecil</td>\n",
       "      <td>31.1032</td>\n",
       "      <td>77.1550</td>\n",
       "      <td>4.0</td>\n",
       "      <td>3.3</td>\n",
       "      <td>The Oberoi Cecil, Nabha, State Museum Road, Lo...</td>\n",
       "      <td>Good</td>\n",
       "      <td>1100.0</td>\n",
       "    </tr>\n",
       "    <tr>\n",
       "      <td>1</td>\n",
       "      <td>0</td>\n",
       "      <td>Hotel</td>\n",
       "      <td>NaN</td>\n",
       "      <td>Seventh Heaven</td>\n",
       "      <td>31.1021</td>\n",
       "      <td>77.1773</td>\n",
       "      <td>4.0</td>\n",
       "      <td>3.2</td>\n",
       "      <td>Hotel Combermere, Mall Road, Summer Hill, Shimla</td>\n",
       "      <td>Good</td>\n",
       "      <td>1250.0</td>\n",
       "    </tr>\n",
       "    <tr>\n",
       "      <td>2</td>\n",
       "      <td>0</td>\n",
       "      <td>Indian Restaurant</td>\n",
       "      <td>NaN</td>\n",
       "      <td>HPTDC Goofa Ashiana Bar and Restaurant</td>\n",
       "      <td>31.1047</td>\n",
       "      <td>77.1742</td>\n",
       "      <td>4.0</td>\n",
       "      <td>3.4</td>\n",
       "      <td>Ridge, The Mall, Longwood</td>\n",
       "      <td>Good</td>\n",
       "      <td>1100.0</td>\n",
       "    </tr>\n",
       "  </tbody>\n",
       "</table>\n",
       "</div>"
      ],
      "text/plain": [
       "   cluster_labels         categories long  \\\n",
       "0               0              Hotel  NaN   \n",
       "1               0              Hotel  NaN   \n",
       "2               0  Indian Restaurant  NaN   \n",
       "\n",
       "                                    venue  latitude  longitude  price_range  \\\n",
       "0       The Restaurant - The Oberoi Cecil   31.1032    77.1550          4.0   \n",
       "1                          Seventh Heaven   31.1021    77.1773          4.0   \n",
       "2  HPTDC Goofa Ashiana Bar and Restaurant   31.1047    77.1742          4.0   \n",
       "\n",
       "   rating                                            address rating_bin  \\\n",
       "0     3.3  The Oberoi Cecil, Nabha, State Museum Road, Lo...       Good   \n",
       "1     3.2   Hotel Combermere, Mall Road, Summer Hill, Shimla       Good   \n",
       "2     3.4                          Ridge, The Mall, Longwood       Good   \n",
       "\n",
       "   average_price  \n",
       "0         1100.0  \n",
       "1         1250.0  \n",
       "2         1100.0  "
      ]
     },
     "execution_count": 38,
     "metadata": {},
     "output_type": "execute_result"
    }
   ],
   "source": [
    "result = chosen_venues[chosen_venues['cluster_labels'] == 0]\n",
    "print(\"Cluster 0\")\n",
    "result.head(10).reset_index(drop = True)"
   ]
  },
  {
   "cell_type": "code",
   "execution_count": 39,
   "metadata": {},
   "outputs": [
    {
     "name": "stdout",
     "output_type": "stream",
     "text": [
      "These venues for cluster 0 have mean price range of 4.00 and rating spread around 3.30\n"
     ]
    }
   ],
   "source": [
    "print(\"These venues for cluster 0 have mean price range of {:.02f} and rating spread around {:.02f}\".\n",
    "      format(result['price_range'].mean(), result['rating'].astype(float).mean()))"
   ]
  },
  {
   "cell_type": "code",
   "execution_count": 40,
   "metadata": {},
   "outputs": [
    {
     "name": "stdout",
     "output_type": "stream",
     "text": [
      "Cluster 1\n"
     ]
    },
    {
     "data": {
      "text/html": [
       "<div>\n",
       "<style scoped>\n",
       "    .dataframe tbody tr th:only-of-type {\n",
       "        vertical-align: middle;\n",
       "    }\n",
       "\n",
       "    .dataframe tbody tr th {\n",
       "        vertical-align: top;\n",
       "    }\n",
       "\n",
       "    .dataframe thead th {\n",
       "        text-align: right;\n",
       "    }\n",
       "</style>\n",
       "<table border=\"1\" class=\"dataframe\">\n",
       "  <thead>\n",
       "    <tr style=\"text-align: right;\">\n",
       "      <th></th>\n",
       "      <th>cluster_labels</th>\n",
       "      <th>categories</th>\n",
       "      <th>long</th>\n",
       "      <th>venue</th>\n",
       "      <th>latitude</th>\n",
       "      <th>longitude</th>\n",
       "      <th>price_range</th>\n",
       "      <th>rating</th>\n",
       "      <th>address</th>\n",
       "      <th>rating_bin</th>\n",
       "      <th>average_price</th>\n",
       "    </tr>\n",
       "  </thead>\n",
       "  <tbody>\n",
       "    <tr>\n",
       "      <td>0</td>\n",
       "      <td>1</td>\n",
       "      <td>City</td>\n",
       "      <td>NaN</td>\n",
       "      <td>Dobby's</td>\n",
       "      <td>31.1052</td>\n",
       "      <td>77.1716</td>\n",
       "      <td>2.0</td>\n",
       "      <td>0.0</td>\n",
       "      <td>Mall Road, Near Syndicate Bank, Summer Hill, S...</td>\n",
       "      <td>NaN</td>\n",
       "      <td>175.0</td>\n",
       "    </tr>\n",
       "    <tr>\n",
       "      <td>1</td>\n",
       "      <td>1</td>\n",
       "      <td>Plaza</td>\n",
       "      <td>NaN</td>\n",
       "      <td>Honey Hut</td>\n",
       "      <td>31.1044</td>\n",
       "      <td>77.1750</td>\n",
       "      <td>2.0</td>\n",
       "      <td>3.7</td>\n",
       "      <td>Khadi Bhawan, Middle Bazaar, Mall Road, Summer...</td>\n",
       "      <td>Good</td>\n",
       "      <td>225.0</td>\n",
       "    </tr>\n",
       "    <tr>\n",
       "      <td>2</td>\n",
       "      <td>1</td>\n",
       "      <td>Furniture / Home Store</td>\n",
       "      <td>NaN</td>\n",
       "      <td>Fresh Juice Shop</td>\n",
       "      <td>31.1063</td>\n",
       "      <td>77.1782</td>\n",
       "      <td>1.0</td>\n",
       "      <td>0.0</td>\n",
       "      <td>Lakkar Bazar, Longwood, Shimla</td>\n",
       "      <td>NaN</td>\n",
       "      <td>75.0</td>\n",
       "    </tr>\n",
       "    <tr>\n",
       "      <td>3</td>\n",
       "      <td>1</td>\n",
       "      <td>Monument / Landmark</td>\n",
       "      <td>NaN</td>\n",
       "      <td>HPMC Corner</td>\n",
       "      <td>31.1046</td>\n",
       "      <td>77.1749</td>\n",
       "      <td>1.0</td>\n",
       "      <td>0.0</td>\n",
       "      <td>Lakkar Bazaar, Longwood, Shimla</td>\n",
       "      <td>NaN</td>\n",
       "      <td>50.0</td>\n",
       "    </tr>\n",
       "    <tr>\n",
       "      <td>4</td>\n",
       "      <td>1</td>\n",
       "      <td>Café</td>\n",
       "      <td>NaN</td>\n",
       "      <td>Wake &amp; Bake</td>\n",
       "      <td>31.1047</td>\n",
       "      <td>77.1732</td>\n",
       "      <td>3.0</td>\n",
       "      <td>3.7</td>\n",
       "      <td>34/2, The Mall Shimla, Teh. &amp; Amp Distt, Shiml...</td>\n",
       "      <td>Good</td>\n",
       "      <td>400.0</td>\n",
       "    </tr>\n",
       "    <tr>\n",
       "      <td>5</td>\n",
       "      <td>1</td>\n",
       "      <td>Coffee Shop</td>\n",
       "      <td>NaN</td>\n",
       "      <td>Indian Coffee House</td>\n",
       "      <td>31.1054</td>\n",
       "      <td>77.1713</td>\n",
       "      <td>2.0</td>\n",
       "      <td>3.8</td>\n",
       "      <td>1, The, Mall Rd, Lower Bazar, Shimla, Himachal...</td>\n",
       "      <td>Good</td>\n",
       "      <td>175.0</td>\n",
       "    </tr>\n",
       "    <tr>\n",
       "      <td>6</td>\n",
       "      <td>1</td>\n",
       "      <td>Indian Restaurant</td>\n",
       "      <td>NaN</td>\n",
       "      <td>Sher-e-Punjab</td>\n",
       "      <td>31.1033</td>\n",
       "      <td>77.1770</td>\n",
       "      <td>2.0</td>\n",
       "      <td>3.3</td>\n",
       "      <td>Mall Road, Summer Hill, Shimla</td>\n",
       "      <td>Good</td>\n",
       "      <td>300.0</td>\n",
       "    </tr>\n",
       "    <tr>\n",
       "      <td>7</td>\n",
       "      <td>1</td>\n",
       "      <td>Hindu Temple</td>\n",
       "      <td>NaN</td>\n",
       "      <td>Cafe Under Tree</td>\n",
       "      <td>31.1008</td>\n",
       "      <td>77.1847</td>\n",
       "      <td>3.0</td>\n",
       "      <td>3.6</td>\n",
       "      <td>1, Below Jakhoo Temple, Jakhu, Longwood</td>\n",
       "      <td>Good</td>\n",
       "      <td>600.0</td>\n",
       "    </tr>\n",
       "    <tr>\n",
       "      <td>8</td>\n",
       "      <td>1</td>\n",
       "      <td>Pizza Place</td>\n",
       "      <td>NaN</td>\n",
       "      <td>Domino's Pizza</td>\n",
       "      <td>31.1049</td>\n",
       "      <td>77.1728</td>\n",
       "      <td>2.0</td>\n",
       "      <td>3.5</td>\n",
       "      <td>24, Mall Road, Summer Hill, Shimla</td>\n",
       "      <td>Good</td>\n",
       "      <td>200.0</td>\n",
       "    </tr>\n",
       "    <tr>\n",
       "      <td>9</td>\n",
       "      <td>1</td>\n",
       "      <td>Indian Restaurant</td>\n",
       "      <td>NaN</td>\n",
       "      <td>Baljees Sweet Shop</td>\n",
       "      <td>31.1048</td>\n",
       "      <td>77.1729</td>\n",
       "      <td>1.0</td>\n",
       "      <td>3.5</td>\n",
       "      <td>Near Scandal Point, Summer Hill, Shimla</td>\n",
       "      <td>Good</td>\n",
       "      <td>150.0</td>\n",
       "    </tr>\n",
       "  </tbody>\n",
       "</table>\n",
       "</div>"
      ],
      "text/plain": [
       "   cluster_labels              categories long                venue  latitude  \\\n",
       "0               1                    City  NaN              Dobby's   31.1052   \n",
       "1               1                   Plaza  NaN            Honey Hut   31.1044   \n",
       "2               1  Furniture / Home Store  NaN     Fresh Juice Shop   31.1063   \n",
       "3               1     Monument / Landmark  NaN          HPMC Corner   31.1046   \n",
       "4               1                    Café  NaN          Wake & Bake   31.1047   \n",
       "5               1             Coffee Shop  NaN  Indian Coffee House   31.1054   \n",
       "6               1       Indian Restaurant  NaN        Sher-e-Punjab   31.1033   \n",
       "7               1            Hindu Temple  NaN      Cafe Under Tree   31.1008   \n",
       "8               1             Pizza Place  NaN       Domino's Pizza   31.1049   \n",
       "9               1       Indian Restaurant  NaN   Baljees Sweet Shop   31.1048   \n",
       "\n",
       "   longitude  price_range  rating  \\\n",
       "0    77.1716          2.0     0.0   \n",
       "1    77.1750          2.0     3.7   \n",
       "2    77.1782          1.0     0.0   \n",
       "3    77.1749          1.0     0.0   \n",
       "4    77.1732          3.0     3.7   \n",
       "5    77.1713          2.0     3.8   \n",
       "6    77.1770          2.0     3.3   \n",
       "7    77.1847          3.0     3.6   \n",
       "8    77.1728          2.0     3.5   \n",
       "9    77.1729          1.0     3.5   \n",
       "\n",
       "                                             address rating_bin  average_price  \n",
       "0  Mall Road, Near Syndicate Bank, Summer Hill, S...        NaN          175.0  \n",
       "1  Khadi Bhawan, Middle Bazaar, Mall Road, Summer...       Good          225.0  \n",
       "2                     Lakkar Bazar, Longwood, Shimla        NaN           75.0  \n",
       "3                    Lakkar Bazaar, Longwood, Shimla        NaN           50.0  \n",
       "4  34/2, The Mall Shimla, Teh. & Amp Distt, Shiml...       Good          400.0  \n",
       "5  1, The, Mall Rd, Lower Bazar, Shimla, Himachal...       Good          175.0  \n",
       "6                     Mall Road, Summer Hill, Shimla       Good          300.0  \n",
       "7            1, Below Jakhoo Temple, Jakhu, Longwood       Good          600.0  \n",
       "8                 24, Mall Road, Summer Hill, Shimla       Good          200.0  \n",
       "9            Near Scandal Point, Summer Hill, Shimla       Good          150.0  "
      ]
     },
     "execution_count": 40,
     "metadata": {},
     "output_type": "execute_result"
    }
   ],
   "source": [
    "result = chosen_venues[chosen_venues['cluster_labels'] == 1]\n",
    "print(\"Cluster 1\")\n",
    "result.head(10).reset_index(drop = True)"
   ]
  },
  {
   "cell_type": "code",
   "execution_count": 41,
   "metadata": {},
   "outputs": [
    {
     "name": "stdout",
     "output_type": "stream",
     "text": [
      "These venues for cluster 1 have mean price range of 2.00 and rating spread around 1.86\n"
     ]
    }
   ],
   "source": [
    "print(\"These venues for cluster 1 have mean price range of {:.02f} and rating spread around {:.02f}\".\n",
    "      format(result['price_range'].mean(), result['rating'].astype(float).mean()))"
   ]
  },
  {
   "cell_type": "markdown",
   "metadata": {},
   "source": [
    "### Conclusion"
   ]
  },
  {
   "cell_type": "markdown",
   "metadata": {},
   "source": [
    "\n",
    "The purpose of this project was to explore the places that a person visiting Shimla could visit. The venues have been identified using Foursquare and Zomato API and have been plotted on the map. The map reveals that there are two major areas a person can visit: colored as green and red. Based on the visitor's venue rating and price requirements, he/she can choose amongst the two places.\n"
   ]
  },
  {
   "cell_type": "code",
   "execution_count": null,
   "metadata": {},
   "outputs": [],
   "source": []
  }
 ],
 "metadata": {
  "kernelspec": {
   "display_name": "Python 3",
   "language": "python",
   "name": "python3"
  },
  "language_info": {
   "codemirror_mode": {
    "name": "ipython",
    "version": 3
   },
   "file_extension": ".py",
   "mimetype": "text/x-python",
   "name": "python",
   "nbconvert_exporter": "python",
   "pygments_lexer": "ipython3",
   "version": "3.7.4"
  }
 },
 "nbformat": 4,
 "nbformat_minor": 1
}
